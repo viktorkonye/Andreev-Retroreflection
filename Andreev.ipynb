{
 "cells": [
  {
   "cell_type": "markdown",
   "metadata": {
    "deletable": true,
    "editable": true
   },
   "source": [
    "# Andreev Retroreflection\n",
    "## Viktor Könye"
   ]
  },
  {
   "cell_type": "code",
   "execution_count": 3,
   "metadata": {
    "collapsed": false,
    "deletable": true,
    "editable": true
   },
   "outputs": [
    {
     "name": "stdout",
     "output_type": "stream",
     "text": [
      "Populating the interactive namespace from numpy and matplotlib\n"
     ]
    }
   ],
   "source": [
    "# imports\n",
    "%pylab inline\n",
    "from scipy.sparse import coo_matrix\n",
    "import scipy as sc\n",
    "from scipy.special import jv\n",
    "from ipywidgets import *\n",
    "from JSAnimation import IPython_display\n",
    "from matplotlib import animation"
   ]
  },
  {
   "cell_type": "markdown",
   "metadata": {
    "deletable": true,
    "editable": true
   },
   "source": [
    "### Kernel Polynomial Method (KPM)\n",
    "\n",
    "Suppose $x\\in[-1,1]$, the exponential function can be expanded using the Chebyshev polynomials the following way:\n",
    "\n",
    "\\begin{equation}\n",
    "\\mathrm{e}^{-itx} = J_0(t)+2\\sum\\limits_{m=1}^\\infty (-i)^mJ_m(t)T_m(x)~,\n",
    "\\end{equation}\n",
    "\n",
    "where $J_m$ are the Bessel functions of the first kind, and $T_m$ are the Chebyshev polynomials of the first kind. The Chebyshev polynomials can be constructed using the following recurrence relation:\n",
    "\n",
    "\\begin{align}\n",
    "T_{m+1}(x)+T_{m-1}(x)&=2xT_m(x) \\\\\n",
    "T_0(x)&=1\\\\\n",
    "T_1(x)&=x\n",
    "\\end{align}\n",
    "\n",
    "The time evolution of an arbitrary $\\mid\\psi(0)\\rangle$ state can be calculated as:\n",
    "\\begin{equation}\n",
    "\\mid\\psi(t)\\rangle=\\mathrm{e}^{-itH} \\mid\\psi(0)\\rangle\n",
    "\\end{equation}\n",
    "\n",
    "Using a normalized Hamiltonian, where the energy spectra lies in the range [-1,1], the above expansion can be used the following way:\n",
    "\n",
    "\\begin{equation}\n",
    "\\mid\\psi(t)\\rangle = J_0(t)\\mid\\psi(0)\\rangle+2\\sum\\limits_{m=1}^\\infty (-i)^mJ_m(t)T_m(H)\\mid\\psi(0)\\rangle~,\n",
    "\\end{equation}\n",
    "\n",
    "where $T_m(H)\\mid\\psi(0)$ can be calculated using:\n",
    "\\begin{align}\n",
    "T_0(H)\\mid\\psi(0)\\rangle&=\\mid\\psi(0)\\rangle\\\\\n",
    "T_1(H)\\mid\\psi(0)\\rangle&=H\\mid\\psi(0)\\rangle \\\\\n",
    "T_{m+1}(H)\\mid\\psi(0)\\rangle&=2HT_m(H)\\mid\\psi(0)\\rangle-T_{m-1}(H)\\mid\\psi(0)\\rangle\n",
    "\\end{align}\n",
    "\n",
    "If t is sufficently small, than the sum converges quickly numerically, because of the Bessel functions. By repedately applying small timesteps we can evolve the quantum state to arbitrary times.\n",
    "\n",
    "Below we can see a function doing the infinitesimal timesteps."
   ]
  },
  {
   "cell_type": "code",
   "execution_count": 4,
   "metadata": {
    "collapsed": false,
    "deletable": true,
    "editable": true
   },
   "outputs": [],
   "source": [
    "# Infinitesimal timesteps\n",
    "def infinitesimal_timestep(H,vo,dt):\n",
    "    prevPrev=vo\n",
    "    prev=H*vo\n",
    "    v = jv(0,dt) * prevPrev + 2 * (-1j) * jv(1,dt) * prev\n",
    "    m = 2\n",
    "    while (jv(m,dt) > 1e-16):\n",
    "        now = 2 * H * prev - prevPrev\n",
    "        v = v + 2 * (-1j)**m * jv(m,dt) * now\n",
    "        prevPrev = prev\n",
    "        prev = now\n",
    "        m += 1\n",
    "    return v    "
   ]
  },
  {
   "cell_type": "markdown",
   "metadata": {
    "deletable": true,
    "editable": true
   },
   "source": [
    "### 1D Wire\n",
    "\n",
    "Let's first look at the case of an infinite chain."
   ]
  },
  {
   "cell_type": "code",
   "execution_count": 56,
   "metadata": {
    "collapsed": false,
    "deletable": true,
    "editable": true
   },
   "outputs": [],
   "source": [
    "def hamiltonian_1d(M,epsilon,delta,a,b,k,sigma,xo): # M a b legyen páros\n",
    "    gamma = 0.5\n",
    "    eps = array(range(int(M/2)-a,int(M/2)+b))  \n",
    "    He = (coo_matrix((epsilon * ones(a+b),(eps,eps)), shape=(2*M,2*M)) - \n",
    "        coo_matrix((gamma * ones(M-2),(array(range(M-2)),array(range(2,M)))), shape=(2*M,2*M)) - \n",
    "        coo_matrix((gamma * ones(M-2),(array(range(2,M)),array(range(M-2)))), shape=(2*M,2*M)))\n",
    "    Hh = (coo_matrix((-epsilon * ones(a+b),(M+eps,M+eps)), shape=(2*M,2*M)) + \n",
    "        coo_matrix((gamma * ones(M-2),(M+array(range(M-2)),M+array(range(2,M)))), shape=(2*M,2*M)) + \n",
    "        coo_matrix((gamma * ones(M-2),(M+array(range(2,M)),M+array(range(M-2)))), shape=(2*M,2*M)))\n",
    "\n",
    "    D = (coo_matrix((delta * ones(a+b),(M+eps-1,eps)), shape=(2*M,2*M)) - \n",
    "        coo_matrix((delta * ones(a+b),(M+eps,eps-1)), shape=(2*M,2*M)))\n",
    "    Dh = (coo_matrix((-delta * ones(a+b),(eps-1,M+eps)), shape=(2*M,2*M)) - \n",
    "        coo_matrix((-delta * ones(a+b),(eps,M+eps-1)), shape=(2*M,2*M)))\n",
    "    \n",
    "    H = He + Hh + D + Dh\n",
    "    \n",
    "    vo = coo_matrix((exp(1j * k * arange(int(M/2)) - (arange(int(M/2))-xo)**2/(2*sigma**2)),(arange(0,M,2),arange(int(M/2))*0)),shape=(2*M,1))\n",
    "    vo = vo/sc.sparse.linalg.norm(vo)\n",
    "\n",
    "    potential = zeros(M)\n",
    "    potential[eps]=epsilon\n",
    "    sup = zeros(M)\n",
    "    sup[eps]=delta            \n",
    "\n",
    "    #print(H.toarray())\n",
    "    #print(vo.toarray())\n",
    "    return H, vo, potential, sup\n",
    "\n",
    "#hamiltonian_1d(4,0,1,1,2,0,10,0);"
   ]
  },
  {
   "cell_type": "code",
   "execution_count": 57,
   "metadata": {
    "collapsed": false,
    "deletable": true,
    "editable": true
   },
   "outputs": [],
   "source": [
    "# Time evolution\n",
    "def time_evolution(H,vo,dt,tMax):\n",
    "    t = arange(0,tMax+dt,dt)\n",
    "    numberOfIter = int(tMax/dt)\n",
    "    x = linspace(-1,1,int(vo.shape[0]/4))\n",
    "    vt = zeros((vo.shape[0],numberOfIter+1))*1j\n",
    "    vt[:,0] = vo.toarray()[:,0]\n",
    "    v = vo\n",
    "    \n",
    "    progress = FloatProgress(min=0, max=numberOfIter); display(progress) # progress bar\n",
    "    for i in range(numberOfIter):\n",
    "        v = infinitesimal_timestep(H,v,dt)\n",
    "        sc.sparse.linalg.norm(v)\n",
    "        v = v/sc.sparse.linalg.norm(v) # norm regularization\n",
    "        vt[:,i+1] = v.toarray()[:,0]\n",
    "        progress.value = i\n",
    "    progress.value = numberOfIter\n",
    "        \n",
    "    return int(numberOfIter+1), x, vt"
   ]
  },
  {
   "cell_type": "markdown",
   "metadata": {
    "deletable": true,
    "editable": true
   },
   "source": [
    "### 2D Normal - Superconducting "
   ]
  },
  {
   "cell_type": "markdown",
   "metadata": {
    "deletable": true,
    "editable": true
   },
   "source": [
    "#### Bogoljubov-de Gennes Model"
   ]
  },
  {
   "cell_type": "code",
   "execution_count": 74,
   "metadata": {
    "collapsed": false,
    "deletable": true,
    "editable": true
   },
   "outputs": [],
   "source": [
    "def plotter():\n",
    "    fig, ax = plt.subplots(figsize=(10, 6))\n",
    "    ax.set_xlim([-1, 1])\n",
    "    ax.set_ylim([-1.5*max(abs(vo.toarray())**2)[0], 1.5*max(abs(vo.toarray())**2)[0]])\n",
    "    ax.axis('off')\n",
    "    ax.tick_params(axis='x', which='both', bottom='off', top='off', labelbottom='off')\n",
    "    ax.tick_params(axis='y', which='both', right='off', left='off', labelleft='off')\n",
    "    line, = ax.plot(x,abs(vt[range(0,int(vt.shape[0]/2),2),0])**2, lw=1, c='blue')\n",
    "    linh, = ax.plot(x,-abs(vt[range(int(vt.shape[0]/2)+1,vt.shape[0],2),0])**2, lw=1, c='blue')\n",
    "    pot, = ax.plot(x,potential[range(0,potential.shape[0],2)]*0.5*max(abs(vo.toarray())**2), lw=1, c='green')\n",
    "    supe, = ax.plot(x,sup[range(0,sup.shape[0],2)]*0.5*max(abs(vo.toarray())**2), lw=1, c='red')\n",
    "\n",
    "    \n",
    "    return fig,ax,line,linh,\n",
    "\n",
    "def init():\n",
    "    line.set_data([], [])\n",
    "    return line,\n",
    "\n",
    "def animate(i):\n",
    "    line.set_data(x,abs(vt[range(0,int(vt.shape[0]/2),2),i])**2)\n",
    "    linh.set_data(x,-abs(vt[range(int(vt.shape[0]/2)+1,vt.shape[0],2),i])**2)\n",
    "    return line, linh,"
   ]
  },
  {
   "cell_type": "code",
   "execution_count": 1,
   "metadata": {
    "collapsed": false,
    "deletable": true,
    "editable": true
   },
   "outputs": [
    {
     "ename": "NameError",
     "evalue": "name 'hamiltonian_1d' is not defined",
     "output_type": "error",
     "traceback": [
      "\u001b[0;31m---------------------------------------------------------------------------\u001b[0m",
      "\u001b[0;31mNameError\u001b[0m                                 Traceback (most recent call last)",
      "\u001b[0;32m<ipython-input-1-c6a744043e26>\u001b[0m in \u001b[0;36m<module>\u001b[0;34m()\u001b[0m\n\u001b[0;32m----> 1\u001b[0;31m \u001b[0mH\u001b[0m \u001b[0;34m,\u001b[0m \u001b[0mvo\u001b[0m \u001b[0;34m,\u001b[0m \u001b[0mpotential\u001b[0m\u001b[0;34m,\u001b[0m \u001b[0msup\u001b[0m \u001b[0;34m=\u001b[0m \u001b[0mhamiltonian_1d\u001b[0m\u001b[0;34m(\u001b[0m\u001b[0mM\u001b[0m\u001b[0;34m=\u001b[0m\u001b[0;36m2000\u001b[0m\u001b[0;34m,\u001b[0m\u001b[0mepsilon\u001b[0m\u001b[0;34m=\u001b[0m\u001b[0;36m0\u001b[0m\u001b[0;34m,\u001b[0m\u001b[0mdelta\u001b[0m\u001b[0;34m=\u001b[0m\u001b[0;36m2\u001b[0m\u001b[0;34m,\u001b[0m\u001b[0ma\u001b[0m\u001b[0;34m=\u001b[0m\u001b[0;36m0\u001b[0m\u001b[0;34m,\u001b[0m\u001b[0mb\u001b[0m\u001b[0;34m=\u001b[0m\u001b[0;36m1\u001b[0m\u001b[0;34m,\u001b[0m\u001b[0mk\u001b[0m\u001b[0;34m=\u001b[0m\u001b[0;36m1.5\u001b[0m\u001b[0;34m,\u001b[0m\u001b[0msigma\u001b[0m\u001b[0;34m=\u001b[0m\u001b[0;36m50\u001b[0m\u001b[0;34m,\u001b[0m\u001b[0mxo\u001b[0m\u001b[0;34m=\u001b[0m\u001b[0;36m150\u001b[0m\u001b[0;34m)\u001b[0m\u001b[0;34m\u001b[0m\u001b[0m\n\u001b[0m\u001b[1;32m      2\u001b[0m \u001b[0msteps\u001b[0m \u001b[0;34m,\u001b[0m \u001b[0mx\u001b[0m \u001b[0;34m,\u001b[0m \u001b[0mvt\u001b[0m \u001b[0;34m=\u001b[0m \u001b[0mtime_evolution\u001b[0m\u001b[0;34m(\u001b[0m\u001b[0mH\u001b[0m\u001b[0;34m,\u001b[0m\u001b[0mvo\u001b[0m\u001b[0;34m,\u001b[0m\u001b[0mdt\u001b[0m\u001b[0;34m=\u001b[0m\u001b[0;36m2\u001b[0m\u001b[0;34m,\u001b[0m\u001b[0mtMax\u001b[0m\u001b[0;34m=\u001b[0m\u001b[0;36m1000\u001b[0m\u001b[0;34m)\u001b[0m\u001b[0;34m\u001b[0m\u001b[0m\n\u001b[1;32m      3\u001b[0m \u001b[0;34m\u001b[0m\u001b[0m\n\u001b[1;32m      4\u001b[0m \u001b[0mfig\u001b[0m\u001b[0;34m,\u001b[0m \u001b[0max\u001b[0m\u001b[0;34m,\u001b[0m \u001b[0mline\u001b[0m\u001b[0;34m,\u001b[0m \u001b[0mlinh\u001b[0m\u001b[0;34m,\u001b[0m \u001b[0;34m=\u001b[0m \u001b[0mplotter\u001b[0m\u001b[0;34m(\u001b[0m\u001b[0;34m)\u001b[0m\u001b[0;34m\u001b[0m\u001b[0m\n\u001b[1;32m      5\u001b[0m \u001b[0manimation\u001b[0m\u001b[0;34m.\u001b[0m\u001b[0mFuncAnimation\u001b[0m\u001b[0;34m(\u001b[0m\u001b[0mfig\u001b[0m\u001b[0;34m,\u001b[0m \u001b[0manimate\u001b[0m\u001b[0;34m,\u001b[0m \u001b[0minit_func\u001b[0m\u001b[0;34m=\u001b[0m\u001b[0minit\u001b[0m\u001b[0;34m,\u001b[0m \u001b[0mframes\u001b[0m\u001b[0;34m=\u001b[0m\u001b[0mint\u001b[0m\u001b[0;34m(\u001b[0m\u001b[0msteps\u001b[0m\u001b[0;34m)\u001b[0m\u001b[0;34m,\u001b[0m \u001b[0minterval\u001b[0m\u001b[0;34m=\u001b[0m\u001b[0;36m25\u001b[0m\u001b[0;34m,\u001b[0m \u001b[0mblit\u001b[0m\u001b[0;34m=\u001b[0m\u001b[0;32mTrue\u001b[0m\u001b[0;34m)\u001b[0m\u001b[0;34m\u001b[0m\u001b[0m\n",
      "\u001b[0;31mNameError\u001b[0m: name 'hamiltonian_1d' is not defined"
     ]
    }
   ],
   "source": [
    "H , vo , potential, sup = hamiltonian_1d(M=2000,epsilon=0,delta=2,a=0,b=1,k=1.5,sigma=50,xo=150)\n",
    "steps , x , vt = time_evolution(H,vo,dt=2,tMax=1000)\n",
    "    \n",
    "fig, ax, line, linh, = plotter()\n",
    "animation.FuncAnimation(fig, animate, init_func=init, frames=int(steps), interval=25, blit=True)"
   ]
  },
  {
   "cell_type": "code",
   "execution_count": 53,
   "metadata": {
    "collapsed": true,
    "deletable": true,
    "editable": true
   },
   "outputs": [],
   "source": [
    "#H0 = sparse(1:M,1:M,epsilon,M,M) - sparse(1:M-1,2:M,vargamma,M,M) - sparse(2:M,1:M-1,vargamma,M,M);\n",
    "#H1 = sparse(1:M,1:M,-vargamma,M,M);"
   ]
  },
  {
   "cell_type": "code",
   "execution_count": 54,
   "metadata": {
    "collapsed": false,
    "deletable": true,
    "editable": true
   },
   "outputs": [
    {
     "data": {
      "text/plain": [
       "array([  1.61840935e-04 +1.89249425e-05j,\n",
       "        -2.46649875e-05 +6.61479760e-04j,\n",
       "        -1.02694093e-03 +1.64140364e-05j,\n",
       "        -9.24434073e-05 -1.21067632e-03j,   1.30848583e-03 -1.88287514e-04j])"
      ]
     },
     "execution_count": 54,
     "metadata": {},
     "output_type": "execute_result"
    }
   ],
   "source": [
    "vt[range(0,10,2),1]"
   ]
  },
  {
   "cell_type": "code",
   "execution_count": 48,
   "metadata": {
    "collapsed": false,
    "deletable": true,
    "editable": true
   },
   "outputs": [
    {
     "data": {
      "text/plain": [
       "(4000, 6)"
      ]
     },
     "execution_count": 48,
     "metadata": {},
     "output_type": "execute_result"
    }
   ],
   "source": [
    "vt.shape"
   ]
  },
  {
   "cell_type": "code",
   "execution_count": null,
   "metadata": {
    "collapsed": true,
    "deletable": true,
    "editable": true
   },
   "outputs": [],
   "source": []
  }
 ],
 "metadata": {
  "kernelspec": {
   "display_name": "Python 3",
   "language": "python",
   "name": "python3"
  },
  "language_info": {
   "codemirror_mode": {
    "name": "ipython",
    "version": 3
   },
   "file_extension": ".py",
   "mimetype": "text/x-python",
   "name": "python",
   "nbconvert_exporter": "python",
   "pygments_lexer": "ipython3",
   "version": "3.5.2"
  }
 },
 "nbformat": 4,
 "nbformat_minor": 2
}
