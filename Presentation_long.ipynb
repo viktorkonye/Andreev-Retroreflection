{
 "cells": [
  {
   "cell_type": "markdown",
   "metadata": {
    "deletable": true,
    "editable": true,
    "slideshow": {
     "slide_type": "slide"
    }
   },
   "source": [
    "\n",
    "\n",
    "\n",
    "\n",
    "# Andreev Retroreflection\n",
    "## Viktor Könye"
   ]
  },
  {
   "cell_type": "code",
   "execution_count": 1,
   "metadata": {
    "collapsed": false,
    "deletable": true,
    "editable": true,
    "hide_input": true,
    "init_cell": true,
    "slideshow": {
     "slide_type": "skip"
    }
   },
   "outputs": [],
   "source": [
    "# imports\n",
    "from numpy import *\n",
    "\n",
    "from scipy.sparse import coo_matrix\n",
    "import scipy as sc\n",
    "from scipy.special import jv\n",
    "\n",
    "from ipywidgets import *\n",
    "from JSAnimation import IPython_display\n",
    "from IPython.display import display\n",
    "import matplotlib.pyplot as plt\n",
    "from matplotlib import animation\n",
    "%matplotlib inline\n",
    "\n",
    "from traitlets.config.manager import BaseJSONConfigManager\n",
    "path = \"/home/viktor/.jupyter/nbconfig\"\n",
    "cm = BaseJSONConfigManager(config_dir=path)\n",
    "cm.update('livereveal', {\n",
    "              'theme': 'sky',\n",
    "              'transition': 'zoom'\n",
    "                });\n"
   ]
  },
  {
   "cell_type": "markdown",
   "metadata": {
    "cell_style": "center",
    "deletable": true,
    "editable": true,
    "hide_input": true,
    "slideshow": {
     "slide_type": "slide"
    }
   },
   "source": [
    "### Kernel Polynomial Method (KPM)"
   ]
  },
  {
   "cell_type": "markdown",
   "metadata": {
    "deletable": true,
    "editable": true,
    "slideshow": {
     "slide_type": "subslide"
    }
   },
   "source": [
    "\\begin{equation}\n",
    "\\mathrm{e}^{-itx} = J_0(t)+2\\sum\\limits_{m=1}^\\infty (-i)^mJ_m(t)T_m(x)\n",
    "\\end{equation}\n",
    "\n",
    "* $x\\in[-1,1]$\n",
    "* $J_m$: Bessel functions of the first kind\n",
    "* $T_m$: Chebyshev polynomials of the first kind"
   ]
  },
  {
   "cell_type": "markdown",
   "metadata": {
    "cell_style": "center",
    "deletable": true,
    "editable": true,
    "slideshow": {
     "slide_type": "subslide"
    }
   },
   "source": [
    "* Recurrence relation for Chebyshev polynomials:\n",
    "\n",
    "\\begin{align}\n",
    "T_{m+1}(x)+T_{m-1}(x)&=2xT_m(x) \\\\\n",
    "T_0(x)&=1\\\\\n",
    "T_1(x)&=x\n",
    "\\end{align}"
   ]
  },
  {
   "cell_type": "markdown",
   "metadata": {
    "deletable": true,
    "editable": true,
    "slideshow": {
     "slide_type": "subslide"
    }
   },
   "source": [
    "* Time evolution of $\\mid\\psi(0)\\rangle$:\n",
    "\n",
    "\\begin{equation}\n",
    "\\mid\\psi(t)\\rangle=\\mathrm{e}^{-itH} \\mid\\psi(0)\\rangle\n",
    "\\end{equation}\n",
    "\n",
    "* Normalized Hamiltonian $\\rightarrow$ previous expansion can be used"
   ]
  },
  {
   "cell_type": "markdown",
   "metadata": {
    "cell_style": "center",
    "deletable": true,
    "editable": true,
    "slideshow": {
     "slide_type": "subslide"
    }
   },
   "source": [
    "\\begin{equation}\n",
    "\\mid\\psi(t)\\rangle = J_0(t)\\mid\\psi(0)\\rangle+2\\sum\\limits_{m=1}^\\infty (-i)^mJ_m(t)T_m(H)\\mid\\psi(0)\\rangle\n",
    "\\end{equation}\n",
    "\n",
    "\\begin{align}\n",
    "T_0(H)\\mid\\psi(0)\\rangle&=\\mid\\psi(0)\\rangle\\\\\n",
    "T_1(H)\\mid\\psi(0)\\rangle&=H\\mid\\psi(0)\\rangle \\\\\n",
    "T_{m+1}(H)\\mid\\psi(0)\\rangle&=2HT_m(H)\\mid\\psi(0)\\rangle-T_{m-1}(H)\\mid\\psi(0)\\rangle\n",
    "\\end{align}"
   ]
  },
  {
   "cell_type": "code",
   "execution_count": 2,
   "metadata": {
    "cell_style": "center",
    "collapsed": false,
    "deletable": true,
    "editable": true,
    "init_cell": true,
    "slideshow": {
     "slide_type": "subslide"
    }
   },
   "outputs": [],
   "source": [
    "def infinitesimal_timestep(H,vo,dt):\n",
    "    prevPrev=vo\n",
    "    prev=H*vo\n",
    "    v = jv(0,dt) * prevPrev + 2 * (-1j) * jv(1,dt) * prev\n",
    "    m = 2\n",
    "    while (jv(m,dt) > 1e-16 or jv(m+1,dt) > 1e-16):\n",
    "        now = 2 * H * prev - prevPrev\n",
    "        v = v + 2 * (-1j)**m * jv(m,dt) * now\n",
    "        prevPrev = prev\n",
    "        prev = now\n",
    "        m += 1\n",
    "    return v    "
   ]
  },
  {
   "cell_type": "code",
   "execution_count": 3,
   "metadata": {
    "collapsed": false,
    "deletable": true,
    "editable": true,
    "hide_input": true,
    "init_cell": true,
    "slideshow": {
     "slide_type": "skip"
    }
   },
   "outputs": [],
   "source": [
    "# Time evolution\n",
    "def time_evolution(H,vo,dt,tMax,disp):\n",
    "    t = arange(0,tMax+dt,dt)\n",
    "    numberOfIter = int(tMax/dt)\n",
    "    x = linspace(-1,1,int(vo.shape[0]/2))\n",
    "    vt = zeros((vo.shape[0],numberOfIter+1))*1j\n",
    "    vt[:,0] = vo.toarray()[:,0]\n",
    "    v = vo\n",
    "    \n",
    "    progress = FloatProgress(min=0, max=numberOfIter); # progress bar\n",
    "    if disp == True:\n",
    "        display(progress) # progress bar\n",
    "    for i in range(numberOfIter):\n",
    "        v = infinitesimal_timestep(H,v,dt)\n",
    "        sc.sparse.linalg.norm(v)\n",
    "        v = v/sc.sparse.linalg.norm(v) # norm regularization\n",
    "        vt[:,i+1] = v.toarray()[:,0]\n",
    "        progress.value = i\n",
    "    progress.value = numberOfIter\n",
    "        \n",
    "    return int(numberOfIter+1), x, vt"
   ]
  },
  {
   "cell_type": "markdown",
   "metadata": {
    "deletable": true,
    "editable": true,
    "slideshow": {
     "slide_type": "slide"
    }
   },
   "source": [
    "### Bogoljubov-de Gennes Model"
   ]
  },
  {
   "cell_type": "markdown",
   "metadata": {
    "deletable": true,
    "editable": true,
    "slideshow": {
     "slide_type": "subslide"
    }
   },
   "source": [
    "* MFT\n",
    "\n",
    "\n",
    "* BdG Hamiltonian\n",
    "\\begin{equation}\n",
    "\\pmatrix{h &\\Delta \\\\ -\\Delta^* & -h^*}\n",
    "\\end{equation}\n",
    "* Particle hole symmetry"
   ]
  },
  {
   "cell_type": "markdown",
   "metadata": {
    "deletable": true,
    "editable": true,
    "slideshow": {
     "slide_type": "slide"
    }
   },
   "source": [
    "### 1D Chain"
   ]
  },
  {
   "cell_type": "code",
   "execution_count": 4,
   "metadata": {
    "collapsed": false,
    "deletable": true,
    "editable": true,
    "hide_input": true,
    "init_cell": true,
    "slideshow": {
     "slide_type": "skip"
    }
   },
   "outputs": [],
   "source": [
    "def hamiltonian_1d(M,epsilon,delta,a,b,k,sigma,xo): # M legyen páros\n",
    "    gamma = 0.5\n",
    "    eps = array(range(int(M/2)-a,int(M/2)+b))  \n",
    "    He = (coo_matrix((epsilon/2 * ones(a+b),(eps,eps)), shape=(2*M,2*M)) - \n",
    "        coo_matrix((gamma * ones(M-1),(array(range(M-1)),array(range(1,M)))), shape=(2*M,2*M)) - \n",
    "         coo_matrix(([gamma],([0],[M-1])), shape=(2*M,2*M)))\n",
    "    Hh = (coo_matrix((-epsilon/2 * ones(a+b),(M+eps,M+eps)), shape=(2*M,2*M)) + \n",
    "        coo_matrix((gamma * ones(M-1),(M+array(range(M-1)),M+array(range(1,M)))), shape=(2*M,2*M)) + \n",
    "         coo_matrix(([gamma],([M],[2*M-1])), shape=(2*M,2*M)))\n",
    "    D =  coo_matrix((delta * ones(a+b),(M+eps,eps)), shape=(2*M,2*M))\n",
    " \n",
    "    H = He + Hh + D\n",
    "    H = H + H.H\n",
    "    \n",
    "    vo = coo_matrix((exp(1j * k * arange(M) - (arange(M)-xo)**2/(2*sigma**2)),(arange(M),arange(M)*0)),shape=(2*M,1))\n",
    "    vo = vo/sc.sparse.linalg.norm(vo)\n",
    "\n",
    "    potential = zeros(M)\n",
    "    potential[eps]=epsilon\n",
    "    sup = zeros(M)\n",
    "    sup[eps]=delta            \n",
    "\n",
    "    #print(H.toarray())\n",
    "    #print(vo.toarray())\n",
    "    return H, vo, potential, sup\n",
    "\n",
    "#hamiltonian_1d(4,0,1,1,1,0,10,0);"
   ]
  },
  {
   "cell_type": "code",
   "execution_count": 5,
   "metadata": {
    "collapsed": false,
    "deletable": true,
    "editable": true,
    "hide_input": true,
    "init_cell": true,
    "slideshow": {
     "slide_type": "skip"
    }
   },
   "outputs": [],
   "source": [
    "def plotter():\n",
    "    fig, ax = plt.subplots(figsize=(10, 6))\n",
    "    ax.set_xlim([-1, 1])\n",
    "    ax.set_ylim([-1.5*max(abs(vo.toarray())**2)[0], 1.5*max(abs(vo.toarray())**2)[0]])\n",
    "    ax.axis('off')\n",
    "    ax.tick_params(axis='x', which='both', bottom='off', top='off', labelbottom='off')\n",
    "    ax.tick_params(axis='y', which='both', right='off', left='off', labelleft='off')\n",
    "    line, = ax.plot(x,abs(vt[0:int(vt.shape[0]/2),0])**2, lw=1, c='blue')\n",
    "    linh, = ax.plot(x,-abs(vt[int(vt.shape[0]/2):vt.shape[0],0])**2, lw=1, c='blue')\n",
    "    pot, = ax.plot(x,potential*0.5*max(abs(vo.toarray())**2), lw=1, c='green')\n",
    "    supe, = ax.plot(x,sup*2*max(abs(vo.toarray())**2), lw=1, c='red')   \n",
    "    return fig,ax,line,linh,\n",
    "\n",
    "def init():\n",
    "    line.set_data([], [])\n",
    "    return line,\n",
    "\n",
    "def animate(i):\n",
    "    line.set_data(x,abs(vt[0:int(vt.shape[0]/2),i])**2)\n",
    "    linh.set_data(x,-abs(vt[int(vt.shape[0]/2):vt.shape[0],i])**2)\n",
    "    return line, linh,"
   ]
  },
  {
   "cell_type": "markdown",
   "metadata": {
    "deletable": true,
    "editable": true,
    "hide_input": false,
    "slideshow": {
     "slide_type": "subslide"
    }
   },
   "source": [
    "#### Free electron"
   ]
  },
  {
   "cell_type": "code",
   "execution_count": null,
   "metadata": {
    "collapsed": false,
    "deletable": true,
    "editable": true,
    "hide_input": true,
    "scrolled": false,
    "slideshow": {
     "slide_type": "-"
    }
   },
   "outputs": [],
   "source": [
    "H , vo , potential, sup = hamiltonian_1d(M=1000,epsilon=0,delta=0,a=0,b=250,k=1.6,sigma=50,xo=300)\n",
    "steps , x , vt = time_evolution(H,vo,dt=2,tMax=1000,disp=False)\n",
    "\n",
    "fig, ax, line, linh, = plotter()\n",
    "animation.FuncAnimation(fig, animate, init_func=init, frames=int(steps), interval=25, blit=True)"
   ]
  },
  {
   "cell_type": "markdown",
   "metadata": {
    "deletable": true,
    "editable": true,
    "slideshow": {
     "slide_type": "subslide"
    }
   },
   "source": [
    "#### Free electron"
   ]
  },
  {
   "cell_type": "code",
   "execution_count": null,
   "metadata": {
    "collapsed": false,
    "deletable": true,
    "editable": true,
    "hide_input": true,
    "slideshow": {
     "slide_type": "-"
    }
   },
   "outputs": [],
   "source": [
    "H , vo , potential, sup = hamiltonian_1d(M=1000,epsilon=0,delta=0,a=0,b=250,k=1.6,sigma=10,xo=300)\n",
    "steps , x , vt = time_evolution(H,vo,dt=2,tMax=1000,disp=False)\n",
    "\n",
    "fig, ax, line, linh, = plotter()\n",
    "animation.FuncAnimation(fig, animate, init_func=init, frames=int(steps), interval=25, blit=True)"
   ]
  },
  {
   "cell_type": "markdown",
   "metadata": {
    "deletable": true,
    "editable": true,
    "slideshow": {
     "slide_type": "subslide"
    }
   },
   "source": [
    "#### Potential"
   ]
  },
  {
   "cell_type": "code",
   "execution_count": null,
   "metadata": {
    "collapsed": false,
    "deletable": true,
    "editable": true,
    "hide_input": true,
    "slideshow": {
     "slide_type": "-"
    }
   },
   "outputs": [],
   "source": [
    "H , vo , potential, sup = hamiltonian_1d(M=1000,epsilon=0.6,delta=0,a=100,b=100,k=1.6,sigma=30,xo=300)\n",
    "steps , x , vt = time_evolution(H,vo,dt=2,tMax=1000,disp=False)\n",
    "\n",
    "fig, ax, line, linh, = plotter()\n",
    "animation.FuncAnimation(fig, animate, init_func=init, frames=int(steps), interval=25, blit=True)"
   ]
  },
  {
   "cell_type": "markdown",
   "metadata": {
    "deletable": true,
    "editable": true,
    "slideshow": {
     "slide_type": "subslide"
    }
   },
   "source": [
    "#### Potential"
   ]
  },
  {
   "cell_type": "code",
   "execution_count": null,
   "metadata": {
    "collapsed": false,
    "deletable": true,
    "editable": true,
    "hide_input": true,
    "slideshow": {
     "slide_type": "-"
    }
   },
   "outputs": [],
   "source": [
    "H , vo , potential, sup = hamiltonian_1d(M=1000,epsilon=1.1,delta=0,a=100,b=100,k=1.6,sigma=30,xo=300)\n",
    "steps , x , vt = time_evolution(H,vo,dt=2,tMax=400,disp=False)\n",
    "\n",
    "fig, ax, line, linh, = plotter()\n",
    "animation.FuncAnimation(fig, animate, init_func=init, frames=int(steps), interval=25, blit=True)"
   ]
  },
  {
   "cell_type": "markdown",
   "metadata": {
    "deletable": true,
    "editable": true,
    "slideshow": {
     "slide_type": "subslide"
    }
   },
   "source": [
    "#### Potential"
   ]
  },
  {
   "cell_type": "code",
   "execution_count": null,
   "metadata": {
    "collapsed": false,
    "deletable": true,
    "editable": true,
    "hide_input": true,
    "slideshow": {
     "slide_type": "-"
    }
   },
   "outputs": [],
   "source": [
    "H , vo , potential, sup = hamiltonian_1d(M=1000,epsilon=1.1,delta=0,a=1,b=1,k=1.6,sigma=30,xo=300)\n",
    "steps , x , vt = time_evolution(H,vo,dt=2,tMax=400,disp=False)\n",
    "\n",
    "fig, ax, line, linh, = plotter()\n",
    "animation.FuncAnimation(fig, animate, init_func=init, frames=int(steps), interval=25, blit=True)"
   ]
  },
  {
   "cell_type": "markdown",
   "metadata": {
    "deletable": true,
    "editable": true,
    "slideshow": {
     "slide_type": "subslide"
    }
   },
   "source": [
    "#### Superconductor"
   ]
  },
  {
   "cell_type": "code",
   "execution_count": null,
   "metadata": {
    "collapsed": false,
    "deletable": true,
    "editable": true,
    "hide_input": true,
    "slideshow": {
     "slide_type": "-"
    }
   },
   "outputs": [],
   "source": [
    "H , vo , potential, sup = hamiltonian_1d(M=1000,epsilon=0,delta=0.2,a=100,b=100,k=1.6,sigma=30,xo=300)\n",
    "steps , x , vt = time_evolution(H,vo,dt=2,tMax=400,disp=False)\n",
    "\n",
    "fig, ax, line, linh, = plotter()\n",
    "animation.FuncAnimation(fig, animate, init_func=init, frames=int(steps), interval=25, blit=True)"
   ]
  },
  {
   "cell_type": "markdown",
   "metadata": {
    "deletable": true,
    "editable": true,
    "slideshow": {
     "slide_type": "subslide"
    }
   },
   "source": [
    "#### Superconductor"
   ]
  },
  {
   "cell_type": "code",
   "execution_count": null,
   "metadata": {
    "collapsed": false,
    "deletable": true,
    "editable": true,
    "hide_input": true,
    "slideshow": {
     "slide_type": "-"
    }
   },
   "outputs": [],
   "source": [
    "H , vo , potential, sup = hamiltonian_1d(M=1000,epsilon=0,delta=0.4,a=50,b=50,k=2,sigma=30,xo=300)\n",
    "steps , x , vt = time_evolution(H,vo,dt=2,tMax=800,disp=False)\n",
    "\n",
    "fig, ax, line, linh, = plotter()\n",
    "animation.FuncAnimation(fig, animate, init_func=init, frames=int(steps), interval=25, blit=True)"
   ]
  },
  {
   "cell_type": "markdown",
   "metadata": {
    "deletable": true,
    "editable": true,
    "slideshow": {
     "slide_type": "slide"
    }
   },
   "source": [
    "### 2D Square lattice"
   ]
  },
  {
   "cell_type": "code",
   "execution_count": 6,
   "metadata": {
    "collapsed": false,
    "deletable": true,
    "editable": true,
    "hide_input": true,
    "init_cell": true,
    "slideshow": {
     "slide_type": "skip"
    }
   },
   "outputs": [],
   "source": [
    "def hamiltonian_2d(M,epsilon,delta,a,b,k,sigma,xo): # M legyen páros\n",
    "    gamma = 0.2\n",
    "    eps = array(range(a*M,b*M)) \n",
    "    eeps=0.2\n",
    "    He = (coo_matrix((eeps * ones(M*M),(array(range(M*M)),array(range(M*M)))), shape=(2*M*M,2*M*M)) + \n",
    "          coo_matrix((epsilon/2 * ones((b-a)*M),(eps,eps)), shape=(2*M*M,2*M*M)) -\n",
    "        coo_matrix((gamma * ones(M*M-1),(array(range(1,M*M)),array(range(M*M-1)))), shape=(2*M*M,2*M*M)) +\n",
    "        coo_matrix((gamma * ones(M-1),(arange(M,M*M,M),arange(M-1,M*M-1,M))), shape=(2*M*M,2*M*M)) -\n",
    "        coo_matrix((gamma * ones(M*M-M),(array(range(M,M*M)),array(range(M*M-M)))), shape=(2*M*M,2*M*M)))\n",
    "    Hh = (coo_matrix((-eeps * ones(M*M),(M*M+array(range(M*M)),M*M+array(range(M*M)))), shape=(2*M*M,2*M*M)) +\n",
    "        coo_matrix((-epsilon/2 * ones((b-a)*M),(M*M+eps,M*M+eps)), shape=(2*M*M,2*M*M)) + \n",
    "        coo_matrix((gamma * ones(M*M-1),(M*M+array(range(1,M*M)),M*M+array(range(M*M-1)))), shape=(2*M*M,2*M*M)) -\n",
    "        coo_matrix((gamma * ones(M-1),(arange(M*M+M,2*M*M,M),arange(M*M+M-1,2*M*M-1,M))), shape=(2*M*M,2*M*M)) +\n",
    "        coo_matrix((gamma * ones(M*M-M),(M*M+array(range(M,M*M)),M*M+array(range(M*M-M)))), shape=(2*M*M,2*M*M))) \n",
    "    D =  coo_matrix((delta * ones((b-a)*M),(M*M+eps,eps)), shape=(2*M*M,2*M*M)) \n",
    " \n",
    "    H = He + Hh + D\n",
    "    H = H + H.H\n",
    "    \n",
    "    y = arange(M*M) % M\n",
    "    x = floor(arange(M*M)/M)\n",
    "    vo = coo_matrix((exp(1j * (k[0] * x + k[1] * y) - ((x-xo[0])**2+(y-xo[1])**2)/(2*sigma**2)),(arange(M*M),arange(M*M)*0)),shape=(2*M*M,1))\n",
    "    vo = vo/sc.sparse.linalg.norm(vo)\n",
    "\n",
    "    potential = zeros(M*M)\n",
    "    potential[eps]=epsilon\n",
    "    sup = zeros(M*M)\n",
    "    sup[eps]=delta            \n",
    "\n",
    "    #print(H.toarray())\n",
    "    #print(vo.toarray())\n",
    "    return H, vo, potential, sup\n",
    "\n",
    "hamiltonian_2d(2,0,0,1,2,[1.5,1.5],10,[0,0]);"
   ]
  },
  {
   "cell_type": "code",
   "execution_count": 7,
   "metadata": {
    "collapsed": false,
    "deletable": true,
    "editable": true,
    "hide_input": true,
    "init_cell": true,
    "slideshow": {
     "slide_type": "skip"
    }
   },
   "outputs": [],
   "source": [
    "def init_2d(a,b):\n",
    "    global fig, ax, ax2, mat, mat2, M\n",
    "    fig, (ax,ax2) = plt.subplots(1, 2, sharey=True, figsize=(15, 6))\n",
    "    ax.axis('off')\n",
    "    ax.tick_params(axis='x', which='both', bottom='off', top='off', labelbottom='off')\n",
    "    ax.tick_params(axis='y', which='both', right='off', left='off', labelleft='off')\n",
    "    ax2.axis('off')\n",
    "    ax2.tick_params(axis='x', which='both', bottom='off', top='off', labelbottom='off')\n",
    "    ax2.tick_params(axis='y', which='both', right='off', left='off', labelleft='off')\n",
    "    M = int(sqrt(vt.shape[0]/2))\n",
    "    mat = ax.imshow(reshape(abs(vt[0:int(vt.shape[0]/2),0])**2,(M,M)).T, cmap='afmhot')\n",
    "    mat2 = ax2.imshow(reshape(abs(vt[0:int(vt.shape[0]/2),0])**2,(M,M)).T, cmap='afmhot')\n",
    "    #mat2 = ax2.imshow(reshape(log(abs(vt[int(vt.shape[0]/2):M*M*2,100])**2+1),(M,M)).T, cmap='afmhot')\n",
    "    #mat2 = ax2.imshow(reshape(log(abs(vt[0:int(vt.shape[0]/2),0])**2+1),(M,M)).T, cmap='afmhot')\n",
    "    mat2.set_data(reshape(abs(vt[int(vt.shape[0]/2):M*M*2,0])**2,(M,M)).T)\n",
    "\n",
    "    if (max(abs(potential)) > 1e-6):\n",
    "        ax.plot(ones((M,1))*a,arange(M), lw=1, c='green'); ax.plot(ones((M,1))*b,arange(M), lw=1, c='green');\n",
    "        ax2.plot(ones((M,1))*a,arange(M), lw=1, c='green'); ax2.plot(ones((M,1))*b,arange(M), lw=1, c='green');\n",
    "    if (max(abs(sup)) > 1e-6):\n",
    "        ax.plot(ones((M,1))*a,arange(M), lw=1, c='red'); ax.plot(ones((M,1))*b,arange(M), lw=1, c='red');\n",
    "        ax2.plot(ones((M,1))*a,arange(M), lw=1, c='red'); ax2.plot(ones((M,1))*b,arange(M), lw=1, c='red');\n",
    "    return\n",
    "\n",
    "def animate_2d(i):\n",
    "    mat.set_data(reshape(abs(vt[0:int(vt.shape[0]/2),i])**2,(M,M)).T)\n",
    "    mat2.set_data(reshape(abs(vt[int(vt.shape[0]/2):M*M*2,i])**2,(M,M)).T)\n",
    "    #mat2.set_data(reshape(log(abs(vt[int(vt.shape[0]/2):M*M*2,i])**2+1),(M,M)).T)\n",
    "    return"
   ]
  },
  {
   "cell_type": "markdown",
   "metadata": {
    "deletable": true,
    "editable": true,
    "slideshow": {
     "slide_type": "subslide"
    }
   },
   "source": [
    "#### Free electron"
   ]
  },
  {
   "cell_type": "code",
   "execution_count": null,
   "metadata": {
    "collapsed": false,
    "deletable": true,
    "editable": true,
    "hide_input": true,
    "slideshow": {
     "slide_type": "-"
    }
   },
   "outputs": [],
   "source": [
    "a=150; b=300;\n",
    "H , vo , potential, sup = hamiltonian_2d(300,0,0,a,b,[1.6,1.6],15,[100,100])\n",
    "steps , x , vt = time_evolution(H,vo,dt=4,tMax=400,disp=False)\n",
    "    \n",
    "init_2d(a,b)\n",
    "animation.FuncAnimation(fig, animate_2d, frames=int(steps), interval=25, blit=False)"
   ]
  },
  {
   "cell_type": "markdown",
   "metadata": {
    "deletable": true,
    "editable": true,
    "slideshow": {
     "slide_type": "subslide"
    }
   },
   "source": [
    "#### Potential"
   ]
  },
  {
   "cell_type": "code",
   "execution_count": null,
   "metadata": {
    "collapsed": false,
    "deletable": true,
    "editable": true,
    "hide_input": true,
    "slideshow": {
     "slide_type": "-"
    }
   },
   "outputs": [],
   "source": [
    "a=150; b=300;\n",
    "H , vo , potential, sup = hamiltonian_2d(300,0.4,0,a,b,[1.6,1.6],15,[100,100])\n",
    "steps , x , vt = time_evolution(H,vo,dt=4,tMax=500,disp=False)\n",
    "    \n",
    "init_2d(a,b)\n",
    "animation.FuncAnimation(fig, animate_2d, frames=int(steps), interval=25, blit=False)"
   ]
  },
  {
   "cell_type": "markdown",
   "metadata": {
    "deletable": true,
    "editable": true,
    "slideshow": {
     "slide_type": "subslide"
    }
   },
   "source": [
    "#### Superconductor"
   ]
  },
  {
   "cell_type": "code",
   "execution_count": null,
   "metadata": {
    "collapsed": false,
    "deletable": true,
    "editable": true,
    "hide_input": true,
    "scrolled": false,
    "slideshow": {
     "slide_type": "-"
    }
   },
   "outputs": [],
   "source": [
    "a=150; b=300\n",
    "H , vo , potential, sup = hamiltonian_2d(300,0,0.1,a,b,[1.5,0],20,[100,150])\n",
    "steps , x , vt = time_evolution(H,vo,dt=4,tMax=300,disp=False)\n",
    "    \n",
    "init_2d(a,b)\n",
    "animation.FuncAnimation(fig, animate_2d, frames=int(steps), interval=25, blit=False)"
   ]
  },
  {
   "cell_type": "markdown",
   "metadata": {
    "deletable": true,
    "editable": true,
    "slideshow": {
     "slide_type": "subslide"
    }
   },
   "source": [
    "#### Superconductor"
   ]
  },
  {
   "cell_type": "code",
   "execution_count": null,
   "metadata": {
    "collapsed": false,
    "deletable": true,
    "editable": true,
    "hide_input": true,
    "scrolled": false,
    "slideshow": {
     "slide_type": "-"
    }
   },
   "outputs": [],
   "source": [
    "a=150; b=300;\n",
    "H , vo , potential, sup = hamiltonian_2d(300,0,0.2,a,b,[1.2,1.2],20,[90,90])\n",
    "steps , x , vt = time_evolution(H,vo,dt=5,tMax=500,disp=False)\n",
    "    \n",
    "init_2d(a,b)\n",
    "animation.FuncAnimation(fig, animate_2d, frames=int(steps), interval=25, blit=False)"
   ]
  },
  {
   "cell_type": "markdown",
   "metadata": {
    "collapsed": true,
    "deletable": true,
    "editable": true,
    "slideshow": {
     "slide_type": "slide"
    }
   },
   "source": [
    "https://github.com/viktorkonye/Andreev-Retroreflection"
   ]
  }
 ],
 "metadata": {
  "celltoolbar": "Slideshow",
  "kernelspec": {
   "display_name": "Python 3",
   "language": "python",
   "name": "python3"
  },
  "language_info": {
   "codemirror_mode": {
    "name": "ipython",
    "version": 3
   },
   "file_extension": ".py",
   "mimetype": "text/x-python",
   "name": "python",
   "nbconvert_exporter": "python",
   "pygments_lexer": "ipython3",
   "version": "3.5.3"
  }
 },
 "nbformat": 4,
 "nbformat_minor": 2
}
